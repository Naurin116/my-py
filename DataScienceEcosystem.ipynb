{
 "cells": [
  {
   "cell_type": "markdown",
   "id": "b40a2eec",
   "metadata": {},
   "source": [
    "# Data Science Tools and Ecosystem"
   ]
  },
  {
   "cell_type": "markdown",
   "id": "35f2eab3",
   "metadata": {},
   "source": [
    "In This notebook, Data Science Tools and Ecosystem are summarized."
   ]
  },
  {
   "cell_type": "markdown",
   "id": "6ecf6a74",
   "metadata": {},
   "source": [
    "**Some of the popular languages that Data Scientists use are:**\n",
    "1. Python\n",
    "2. R\n",
    "3. SQL\n",
    "4. JAVA\n",
    "5. Scala"
   ]
  },
  {
   "cell_type": "markdown",
   "id": "76243bc7",
   "metadata": {},
   "source": [
    "**Some of the commonly used libraries used by Data Scientists include:**\n",
    "1. Numpy\n",
    "2. Pandas\n",
    "3. matplotlib\n",
    "4. Scipy"
   ]
  },
  {
   "cell_type": "markdown",
   "id": "48b238f1",
   "metadata": {},
   "source": [
    "### Data Science Tools\n",
    "\n",
    "* Tableau\n",
    "* SAs\n",
    "* Apache Hadoop\n",
    "* Apache Spark"
   ]
  },
  {
   "cell_type": "markdown",
   "id": "895567b3",
   "metadata": {},
   "source": [
    "### Below are a few examples of evaluating arithmetic expressions in Python."
   ]
  },
  {
   "cell_type": "code",
   "execution_count": 6,
   "id": "19af457b",
   "metadata": {},
   "outputs": [
    {
     "data": {
      "text/plain": [
       "17"
      ]
     },
     "execution_count": 6,
     "metadata": {},
     "output_type": "execute_result"
    }
   ],
   "source": [
    "# This a simple arithmetic expression to mutiply then add integers.\n",
    "(3*4)+5"
   ]
  },
  {
   "cell_type": "code",
   "execution_count": 7,
   "id": "ac91e24d",
   "metadata": {},
   "outputs": [
    {
     "data": {
      "text/plain": [
       "3.3333333333333335"
      ]
     },
     "execution_count": 7,
     "metadata": {},
     "output_type": "execute_result"
    }
   ],
   "source": [
    "# This will convert 200 minutes to hours by diving by 60.\n",
    "Hours = 200/60\n",
    "Hours"
   ]
  },
  {
   "cell_type": "markdown",
   "id": "0435c3d9",
   "metadata": {},
   "source": [
    "***Objectives:***\n",
    "* List popular languages for Data Science\n",
    "* List popular Tools for Data Science\n",
    "* List popular Libraries For Data Science\n",
    "* To multipy and add integers opration"
   ]
  },
  {
   "cell_type": "markdown",
   "id": "25d8f4fc",
   "metadata": {},
   "source": [
    "## Author\n",
    "Shaikh Naurin"
   ]
  },
  {
   "cell_type": "code",
   "execution_count": null,
   "id": "c9b822a8",
   "metadata": {},
   "outputs": [],
   "source": []
  }
 ],
 "metadata": {
  "kernelspec": {
   "display_name": "Python 3 (ipykernel)",
   "language": "python",
   "name": "python3"
  },
  "language_info": {
   "codemirror_mode": {
    "name": "ipython",
    "version": 3
   },
   "file_extension": ".py",
   "mimetype": "text/x-python",
   "name": "python",
   "nbconvert_exporter": "python",
   "pygments_lexer": "ipython3",
   "version": "3.10.11"
  }
 },
 "nbformat": 4,
 "nbformat_minor": 5
}
